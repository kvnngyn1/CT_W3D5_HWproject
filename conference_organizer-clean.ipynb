{
 "cells": [
  {
   "cell_type": "markdown",
   "metadata": {
    "id": "jxjdJzd5uQ1c"
   },
   "source": [
    "Simply put, your main objective for this coding challenge is to send an API request to a server, get the data, then build a solution after getting the data."
   ]
  },
  {
   "cell_type": "markdown",
   "metadata": {
    "id": "aqQVV5weuQ1i"
   },
   "source": [
    "Here's the server address: https://ct-mock-tech-assessment.herokuapp.com/<br>"
   ]
  },
  {
   "cell_type": "markdown",
   "metadata": {
    "id": "4itWjMYFuQ1l"
   },
   "source": [
    "The data is a collection of partners who need to attend meetings within their respective countries. For each partner you will find first and last names, email addresses, country locations and dates of availability."
   ]
  },
  {
   "cell_type": "markdown",
   "metadata": {
    "id": "xt5DsSDBuQ1m"
   },
   "source": [
    "Your job is to  build an invitation list based on the data. An example solution would look like the following. Keep in mind this is an example and not the real solution."
   ]
  },
  {
   "cell_type": "markdown",
   "metadata": {
    "id": "H9hY3aKQuQ1m"
   },
   "source": [
    "<strong>THE FOLLOWING IS `ONLY` AN EXAMPLE.</strong>"
   ]
  },
  {
   "cell_type": "code",
   "execution_count": 1,
   "metadata": {
    "id": "F5if2DavuQ1n"
   },
   "outputs": [],
   "source": [
    "# [   {   'attendeeCount': 12,\n",
    "#         'attendees': [   'rketring@codingtemple.com',\n",
    "#                          'mlacau@codingtemple.com',\n",
    "#                          'eomersa@codingtemple.com',\n",
    "#                          'ssheahan@codingtemple.com',\n",
    "#                          'msoult@codingtemple.com',\n",
    "#                          'bwatton@codingtemple.com',\n",
    "#                          'afernadez@codingtemple.com',\n",
    "#                          'mmottern@codingtemple.com',\n",
    "#                          'pdougherty@codingtemple.com',\n",
    "#                          'sbeemon@codingtemple.com',\n",
    "#                          'mvirgel@codingtemple.com',\n",
    "#                          'hpolitte@codingtemple.com'],\n",
    "#         'name': 'United States',\n",
    "#         'startDate': '2017-06-01'},\n",
    "#     {   'attendeeCount': 12,\n",
    "#         'attendees': [   'sterrence@codingtemple.com',\n",
    "#                          'dpatnode@codingtemple.com',\n",
    "#                          'pbertog@codingtemple.com',\n",
    "#                          'rguldemond@codingtemple.com',\n",
    "#                          'rfarlee@codingtemple.com',\n",
    "#                          'mclawson@codingtemple.com',\n",
    "#                          'mbottenfield@codingtemple.com',\n",
    "#                          'akulju@codingtemple.com',\n",
    "#                          'cscoby@codingtemple.com',\n",
    "#                          'dsiebenthal@codingtemple.com',\n",
    "#                          'mcrossen@codingtemple.com',\n",
    "#                          'mkimble@codingtemple.com'],\n",
    "#         'name': 'Ireland',\n",
    "#         'startDate': '2017-06-04'},\n",
    "#     {   'attendeeCount': 14,\n",
    "#         'attendees': [   'oduttinger@codingtemple.com',\n",
    "#                          'tzavesky@codingtemple.com',\n",
    "#                          'alyme@codingtemple.com',\n",
    "#                          'aferkovich@codingtemple.com',\n",
    "#                          'cbrookhouse@codingtemple.com',\n",
    "#                          'mselk@codingtemple.com',\n",
    "#                          'amacneil@codingtemple.com',\n",
    "#                          'jplants@codingtemple.com',\n",
    "#                          'devora@codingtemple.com',\n",
    "#                          'bcustis@codingtemple.com',\n",
    "#                          'labbot@codingtemple.com',\n",
    "#                          'civery@codingtemple.com',\n",
    "#                          'jfavieri@codingtemple.com',\n",
    "#                          'anickless@codingtemple.com'],\n",
    "#         'name': 'Spain',\n",
    "#         'startDate': '2017-05-03'},\n",
    "#     {   'attendeeCount': 3,\n",
    "#         'attendees': [   'ltoepperwein@codingtemple.com',\n",
    "#                          'olavine@codingtemple.com',\n",
    "#                          'ksinitiere@codingtemple.com'],\n",
    "#         'name': 'Mexico',\n",
    "#         'startDate': '2017-05-03'},\n",
    "#     {   'attendeeCount': 3,\n",
    "#         'attendees': [   'abending@codingtemple.com',\n",
    "#                          'agewant@codingtemple.com',\n",
    "#                          'mboyarski@codingtemple.com'],\n",
    "#         'name': 'Canada',\n",
    "#         'startDate': '2017-07-02'},\n",
    "#     {   'attendeeCount': None,\n",
    "#         'attendees': [],\n",
    "#         'name': 'Singapore',\n",
    "#         'startDate': '2017-06-15'},\n",
    "#     {   'attendeeCount': None,\n",
    "#         'attendees': [],\n",
    "#         'name': 'Japan',\n",
    "#         'startDate': '2017-06-27'},\n",
    "#     {   'attendeeCount': 16,\n",
    "#         'attendees': [   'arosentrater@codingtemple.com',\n",
    "#                          'jgoettsche@codingtemple.com',\n",
    "#                          'nbehal@codingtemple.com',\n",
    "#                          'bkilcher@codingtemple.com',\n",
    "#                          'ostutler@codingtemple.com',\n",
    "#                          'emaohu@codingtemple.com',\n",
    "#                          'jbattistoni@codingtemple.com',\n",
    "#                          'ccoryea@codingtemple.com',\n",
    "#                          'gcintron@codingtemple.com',\n",
    "#                          'scorlett@codingtemple.com',\n",
    "#                          'dallocca@codingtemple.com',\n",
    "#                          'dneedler@codingtemple.com',\n",
    "#                          'lsachez@codingtemple.com',\n",
    "#                          'sszabo@codingtemple.com',\n",
    "#                          'smaleck@codingtemple.com',\n",
    "#                          'jholtrop@codingtemple.com'],\n",
    "#         'name': 'United Kingdom',\n",
    "#         'startDate': '2017-06-05'},\n",
    "#     {   'attendeeCount': 5,\n",
    "#         'attendees': [   'bdurke@codingtemple.com',\n",
    "#                          'jtopp@codingtemple.com',\n",
    "#                          'tpinela@codingtemple.com',\n",
    "#                          'jdefore@codingtemple.com',\n",
    "#                          'jmacareno@codingtemple.com'],\n",
    "#         'name': 'France',\n",
    "#         'startDate': '2017-06-18'}]"
   ]
  },
  {
   "cell_type": "markdown",
   "metadata": {
    "id": "FDd9SsXkuQ1r"
   },
   "source": [
    "For each partner, you need to categorize them according to the country in which they must attend the meeting. Find a way to determine which availability dates work best for everyone in EACH country. If a date doesn't work for a specific partner, they simply will not be able to attend the meeting. \n",
    "\n",
    "<strong>The kicker</strong>: this meeting will last a total of two days. Because of this, you must find a RANGE of two dates that work best for everyone. For whichever two days work the best, only display the first date everyone can start.\n",
    "\n",
    "<strong>When you've finished, send a POST request to the same API (Google how to do this!!!). If you get a server response code of 200, you were successful in building your solution. Otherwise, hit the drawing board and try again!</strong>"
   ]
  },
  {
   "cell_type": "code",
   "execution_count": 3,
   "metadata": {},
   "outputs": [
    {
     "ename": "SyntaxError",
     "evalue": "invalid syntax (<ipython-input-3-43b0c4ae5d48>, line 4)",
     "output_type": "error",
     "traceback": [
      "\u001b[0;36m  File \u001b[0;32m\"<ipython-input-3-43b0c4ae5d48>\"\u001b[0;36m, line \u001b[0;32m4\u001b[0m\n\u001b[0;31m    class Conference\u001b[0m\n\u001b[0m                    ^\u001b[0m\n\u001b[0;31mSyntaxError\u001b[0m\u001b[0;31m:\u001b[0m invalid syntax\n"
     ]
    }
   ],
   "source": [
    "import requests, pprint\n",
    "from IPython.display import clear_output\n",
    "\n",
    "class Conference:\n",
    "    def __init__(self, name, start_date, attendee_count, attendees):\n",
    "        self.name = name\n",
    "        self.start_date = start_date\n",
    "        self.attendee_count = attendee_count\n",
    "        self.attendees = attendees\n",
    "    \n",
    "    def from_dict(self, data):\n",
    "        for field in ['country_name', 'startDate', 'attendeeCount', 'attendees']:\n",
    "            if field in data:\n",
    "                setattr(self, field, data[field])\n",
    "                \n",
    "    def __repr__(self):\n",
    "        return f'<country_name: {self.name}1>'\n",
    "    \n",
    "    def __str__(self):\n",
    "        return f'{self.name.title()}'\n",
    "    \n",
    "class Attendance:\n",
    "    attendees_list = []\n",
    "\n",
    "    def __init__(self):\n",
    "        pass\n",
    "    \n",
    "    def instructions(self):\n",
    "        pass\n",
    "    def populate(self):\n",
    "          data_dict = {\n",
    "                'name': response['name'].title(),\n",
    "                'abilities': [a['ability']['name'].title() for a in response['abilities']],\n",
    "                'types': [t['type']['name'].title() for t in response['types']],\n",
    "                'height': response['height'],\n",
    "                'weight': response['weight']\n",
    "            }\n",
    "    def partners_available(self):\n",
    "        pass\n",
    "    \n",
    "    def attendee_show(self):\n",
    "        pass\n",
    "    \n",
    "    def attendee_count(self):\n",
    "        pass\n",
    "\n",
    "# instructions and input name\n",
    "# flow input and enter to show dates\n",
    "\n",
    "    \n",
    "    def organizer_run(self):\n",
    "        done = False\n",
    "        \n",
    "        while not done:\n",
    "            clear_output()\n",
    "            \n",
    "            start_date = input(\"\"\"Type 'show' to view partners available for conference.\n",
    "Type 'quit' to exit.\"\"\").lower()\n",
    "            \n",
    "            if start_date == 'quit':\n",
    "                done = True\n",
    "            elif start_date == 'show':\n",
    "                attendance.attendees_show()\n",
    "                input('Choose a date to show who is available during that time. Type in Month/date/year ')\n",
    "            else:\n",
    "                attendance.attendees_available(start_date)\n",
    "                \n",
    "Attendance() = attendance\n",
    "\n",
    "Attendance.organizer_run()"
   ]
  },
  {
   "cell_type": "code",
   "execution_count": null,
   "metadata": {},
   "outputs": [],
   "source": []
  }
 ],
 "metadata": {
  "colab": {
   "name": "conference_organizer-clean.ipynb",
   "provenance": []
  },
  "kernelspec": {
   "display_name": "Python 3",
   "language": "python",
   "name": "python3"
  },
  "language_info": {
   "codemirror_mode": {
    "name": "ipython",
    "version": 3
   },
   "file_extension": ".py",
   "mimetype": "text/x-python",
   "name": "python",
   "nbconvert_exporter": "python",
   "pygments_lexer": "ipython3",
   "version": "3.9.6"
  }
 },
 "nbformat": 4,
 "nbformat_minor": 1
}
